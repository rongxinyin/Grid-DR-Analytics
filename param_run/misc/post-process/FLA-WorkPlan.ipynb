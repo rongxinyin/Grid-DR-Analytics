{
 "cells": [
  {
   "cell_type": "code",
   "execution_count": 71,
   "metadata": {},
   "outputs": [],
   "source": [
    "import pathlib\n",
    "import sys\n",
    "\n",
    "from scipy import stats\n",
    "import numpy as np\n",
    "import pandas as pd\n",
    "import matplotlib.pyplot as plt\n",
    "import seaborn as sns\n",
    "\n",
    "import pyDOE2\n",
    "from SALib.sample import morris\n",
    "from SALib.analyze import morris as morris_analyze\n",
    "from SALib.plotting import morris as morris_plot"
   ]
  },
  {
   "cell_type": "code",
   "execution_count": 2,
   "metadata": {},
   "outputs": [],
   "source": [
    "def dist_generator(pars, distribution=None):\n",
    "    \"\"\"\n",
    "    Generate SciPy distribution instance.\n",
    "\n",
    "    Arguments:\n",
    "\n",
    "    pars: NumPy 1-D array of two elements\n",
    "        Parameters of the specified distribution of the uncertainty\n",
    "\n",
    "    \"\"\"\n",
    "    if distribution is None:\n",
    "        distribution = 'Uniform'\n",
    "        print(\"Warning: Missing distribution type; set to uniform by default\")\n",
    "\n",
    "    switcher = {\n",
    "        'Uniform': stats.uniform(loc=pars[0], scale=np.diff(pars)),\n",
    "        'Normal': stats.norm(loc=pars[0], scale=pars[1]),\n",
    "        'RandInt': stats.randint(low=pars[0], high=pars[1]),\n",
    "    }\n",
    "    return switcher.get(distribution, stats.norm())"
   ]
  },
  {
   "cell_type": "code",
   "execution_count": 3,
   "metadata": {},
   "outputs": [],
   "source": [
    "# Settings\n",
    "params = ['WWR', 'R-value', 'Infiltration']\n",
    "values = [0.3, 11, 0.05]\n",
    "\n",
    "\n",
    "p = len(params)\n",
    "size = 100\n",
    "\n",
    "r = 10\n",
    "levels = 5\n",
    "\n",
    "problem = {\n",
    "    'num_vars': p,\n",
    "    'names': params,\n",
    "    'bounds': np.tile(np.array([1e-3, 1 - 1e-3]), (p, 1))\n",
    "}"
   ]
  },
  {
   "cell_type": "code",
   "execution_count": 4,
   "metadata": {},
   "outputs": [],
   "source": [
    "# Monte Carlo simulation with Latin Hypercube sampling\n",
    "design_lhs = pyDOE2.lhs(\n",
    "    p, size, criterion='maximin', iterations=20\n",
    ")"
   ]
  },
  {
   "cell_type": "code",
   "execution_count": 5,
   "metadata": {},
   "outputs": [],
   "source": [
    "# Morris method\n",
    "design_morris = morris.sample(\n",
    "    problem, N=r, num_levels=levels\n",
    ")"
   ]
  },
  {
   "cell_type": "code",
   "execution_count": 6,
   "metadata": {},
   "outputs": [],
   "source": [
    "lhs_sample = np.empty(design_lhs.shape)\n",
    "morris_sample = np.empty(design_morris.shape)\n",
    "\n",
    "for i, v in enumerate(values):\n",
    "    d = dist_generator([v, v/30], 'Normal')\n",
    "    lhs_sample[:, i] = d.ppf(design_lhs[:, i])\n",
    "    morris_sample[:, i] = d.ppf(design_morris[:, i])\n",
    "\n",
    "pd.DataFrame(lhs_sample, columns=params).to_csv('design_lhs.csv', index=False)\n",
    "pd.DataFrame(morris_sample, columns=params).to_csv('design_morris.csv', index=False)"
   ]
  },
  {
   "cell_type": "code",
   "execution_count": 6,
   "metadata": {},
   "outputs": [],
   "source": [
    "# Read sample\n",
    "lhs_sample = pd.read_csv('design_lhs.csv').values\n",
    "morris_sample = pd.read_csv('design_morris.csv').values"
   ]
  },
  {
   "cell_type": "code",
   "execution_count": 22,
   "metadata": {
    "scrolled": true
   },
   "outputs": [
    {
     "data": {
      "image/png": "[encoded data removed]",
      "text/plain": [
       "<Figure size 288x216 with 1 Axes>"
      ]
     },
     "metadata": {},
     "output_type": "display_data"
    },
    {
     "data": {
      "image/png": "[encoded data removed]",
      "text/plain": [
       "<Figure size 288x216 with 1 Axes>"
      ]
     },
     "metadata": {},
     "output_type": "display_data"
    },
    {
     "data": {
      "image/png": "[encoded data removed]",
      "text/plain": [
       "<Figure size 288x216 with 1 Axes>"
      ]
     },
     "metadata": {},
     "output_type": "display_data"
    }
   ],
   "source": [
    "sns.set_style('ticks')\n",
    "sns.set_context(\"paper\", rc={\"lines.linewidth\": 2})\n",
    "\n",
    "names = ['WWR', 'Wall R-value', 'Infiltration flow per exterior surface area [cfm/ft2]']\n",
    "\n",
    "for i in range(len(names)):\n",
    "    fig = plt.figure(figsize=(4, 3))\n",
    "    ax = fig.add_subplot(111)\n",
    "    ax.hist(\n",
    "        lhs_sample[:, i], bins=15, alpha=0.8, density=True\n",
    "    )\n",
    "    ax.set_xlabel(names[i])\n",
    "    ax.set_ylabel('Probability density')\n",
    "    plt.savefig('histogram-{}.png'.format(params[i]), dpi=300)"
   ]
  },
  {
   "cell_type": "markdown",
   "metadata": {},
   "source": [
    "#### LHS analysis"
   ]
  },
  {
   "cell_type": "code",
   "execution_count": 128,
   "metadata": {},
   "outputs": [],
   "source": [
    "data_lhs = pd.read_csv('data_output_lhs.csv')\n",
    "out_lhs = data_lhs.groupby('WWR').mean()['2004_shed_W_ft2'].values"
   ]
  },
  {
   "cell_type": "code",
   "execution_count": 129,
   "metadata": {},
   "outputs": [
    {
     "data": {
      "text/plain": [
       "array([0.36184256, 0.36175761, 0.3632766 , 0.36300682, 0.36306563,\n",
       "       0.36384615, 0.36375673, 0.36430527, 0.36356269, 0.36482219,\n",
       "       0.36493126, 0.36442514, 0.36514405, 0.36526894, 0.36552732,\n",
       "       0.36497694, 0.36450369, 0.36517672, 0.36472527, 0.36529254,\n",
       "       0.36613669, 0.36538287, 0.36586412, 0.3661592 , 0.36523759,\n",
       "       0.36584885, 0.36559858, 0.366227  , 0.36572633, 0.36600978,\n",
       "       0.36658299, 0.366039  , 0.36552901, 0.36651194, 0.3660755 ,\n",
       "       0.36558731, 0.36650244, 0.36614436, 0.36623225, 0.36604771,\n",
       "       0.36624707, 0.3666061 , 0.36609173, 0.36699952, 0.36578024,\n",
       "       0.36653852, 0.3665021 , 0.36666823, 0.36662419, 0.36728645,\n",
       "       0.36671153, 0.36667002, 0.36708558, 0.36761557, 0.36692122,\n",
       "       0.36717023, 0.36766451, 0.36698944, 0.36729306, 0.36752071,\n",
       "       0.36760179, 0.36741041, 0.36840095, 0.36732869, 0.3676447 ,\n",
       "       0.36772899, 0.36741655, 0.36771645, 0.3675751 , 0.36723787,\n",
       "       0.36717272, 0.36784923, 0.3677726 , 0.36810889, 0.36891856,\n",
       "       0.36836071, 0.36862861, 0.36868189, 0.36890618, 0.36808104,\n",
       "       0.36940323, 0.36933765, 0.36878359, 0.36867699, 0.3695897 ,\n",
       "       0.36868942, 0.36882748, 0.3692952 , 0.36936023, 0.36997241,\n",
       "       0.36961762, 0.36969838, 0.36936371, 0.36957468, 0.37025166,\n",
       "       0.37052878, 0.37135872, 0.37090296, 0.37093319, 0.37129213])"
      ]
     },
     "execution_count": 129,
     "metadata": {},
     "output_type": "execute_result"
    }
   ],
   "source": [
    "out_lhs"
   ]
  },
  {
   "cell_type": "code",
   "execution_count": 130,
   "metadata": {},
   "outputs": [
    {
     "data": {
      "image/png": "[encoded data removed]",
      "text/plain": [
       "<Figure size 360x216 with 1 Axes>"
      ]
     },
     "metadata": {},
     "output_type": "display_data"
    }
   ],
   "source": [
    "sns.set_style('ticks')\n",
    "sns.set_context(\"paper\", rc={\"lines.linewidth\": 2})\n",
    "fig = plt.figure(figsize=(5, 3))\n",
    "ax = fig.add_subplot(111)\n",
    "ax.hist(\n",
    "    out_lhs, bins=15, alpha=0.8,\n",
    "    density=True\n",
    ")\n",
    "ax.set_xlabel('Hourly Average Demand Shed Intensity [W/ft2]')\n",
    "ax.set_ylabel('Probability Density')\n",
    "plt.savefig('histogram-mcs.png', dpi=300)"
   ]
  },
  {
   "cell_type": "markdown",
   "metadata": {},
   "source": [
    "#### Morris method"
   ]
  },
  {
   "cell_type": "code",
   "execution_count": 29,
   "metadata": {},
   "outputs": [],
   "source": [
    "design_morris = np.empty(morris_sample.shape)\n",
    "\n",
    "for i, v in enumerate(values):\n",
    "    d = dist_generator([v, v/30], 'Normal')\n",
    "    design_morris[:, i] = d.cdf(morris_sample[:, i])"
   ]
  },
  {
   "cell_type": "code",
   "execution_count": 138,
   "metadata": {},
   "outputs": [],
   "source": [
    "def plot_morris_cov(sa, name, outdir):\n",
    "    \"\"\"Plot result of sensitivity analysis using Morris method.\"\"\"\n",
    "    if np.isnan(sa['sigma']).any():\n",
    "        # Remove sigma to trigger the use of 'mu_star_conf' in y axis by SALib\n",
    "        sa_plot = sa.copy()\n",
    "        sa_plot['sigma'] = None\n",
    "        Y = sa['mu_star_conf']\n",
    "    else:\n",
    "        sa_plot = sa\n",
    "        Y = sa['sigma']\n",
    "\n",
    "    fig, ax = plt.subplots(figsize=(6, 5))\n",
    "    morris_plot.covariance_plot(ax, sa_plot, {})\n",
    "\n",
    "    # TEMPORARY\n",
    "    ax.set_ylim(0, 0.001)\n",
    "    ax.set_xlabel(r'$\\mu^\\star$ [W/ft2]')\n",
    "    ax.set_ylabel(r'$\\sigma$ [W/ft2]')\n",
    "\n",
    "    x_offset = ax.get_xlim()[1] * 0.01\n",
    "    y_offset = ax.get_ylim()[1] * 0.01\n",
    "    for i in range(len(sa['names'])):\n",
    "        plt.annotate(\n",
    "            sa['names'][i],\n",
    "            (sa['mu_star'][i] + x_offset, Y[i] + y_offset)\n",
    "        )\n",
    "    plt.savefig(outdir.joinpath('Morris_covplot-{}.png'.format(name)), dpi=300)\n",
    "    plt.close()\n",
    "\n",
    "\n",
    "def plot_morris_bar(sa, name, outdir):\n",
    "    \"\"\"Plot result of sensitivity analysis using Morris method.\"\"\"\n",
    "    # Use short variable name in plots\n",
    "    sa_copy = sa.copy()\n",
    "\n",
    "    fig, ax = plt.subplots(figsize=(6, 5))\n",
    "    morris_plot.horizontal_bar_plot(ax, sa_copy, {})\n",
    "    plt.savefig(outdir.joinpath('Morris_barplot-{}.png'.format(name)), dpi=300)\n",
    "    plt.close()\n",
    "\n",
    "\n",
    "def plot_morris_bar_sign(sa, name, outdir):\n",
    "    \"\"\"Plot result of sensitivity analysis using Morris method.\"\"\"\n",
    "    # Use short variable name in plots\n",
    "    sa_copy = sa.copy()\n",
    "    sa_copy['mu_star'] = sa_copy['mu']\n",
    "\n",
    "    fig, ax = plt.subplots(figsize=(6, 5))\n",
    "    morris_plot.horizontal_bar_plot(ax, sa_copy, {})\n",
    "    ax.plot([0, 0], [ax.get_ylim()[0], ax.get_ylim()[1]], 'k--')\n",
    "    ax.set_xlabel(r'$\\mu$ [W/ft2]')\n",
    "    plt.savefig(outdir.joinpath('Morris_barplot-sign-{}.png'.format(name)), dpi=300)\n",
    "    plt.close()"
   ]
  },
  {
   "cell_type": "code",
   "execution_count": 131,
   "metadata": {},
   "outputs": [],
   "source": [
    "data_morris = pd.read_csv('data_output_morris.csv')"
   ]
  },
  {
   "cell_type": "code",
   "execution_count": 132,
   "metadata": {},
   "outputs": [],
   "source": [
    "data_morris['group_index'] = np.tile(np.asarray([list(range(1, design_morris.shape[0]+1))]), (792, 1)).flatten('F')"
   ]
  },
  {
   "cell_type": "code",
   "execution_count": 133,
   "metadata": {},
   "outputs": [
    {
     "data": {
      "text/html": [
       "<div>\n",
       "<style scoped>\n",
       "    .dataframe tbody tr th:only-of-type {\n",
       "        vertical-align: middle;\n",
       "    }\n",
       "\n",
       "    .dataframe tbody tr th {\n",
       "        vertical-align: top;\n",
       "    }\n",
       "\n",
       "    .dataframe thead th {\n",
       "        text-align: right;\n",
       "    }\n",
       "</style>\n",
       "<table border=\"1\" class=\"dataframe\">\n",
       "  <thead>\n",
       "    <tr style=\"text-align: right;\">\n",
       "      <th></th>\n",
       "      <th>Unnamed: 0</th>\n",
       "      <th>oat</th>\n",
       "      <th>bldg</th>\n",
       "      <th>2004_bldg</th>\n",
       "      <th>2004_shed_pct</th>\n",
       "      <th>2004_shed_W_ft2</th>\n",
       "      <th>WWR</th>\n",
       "      <th>R-value</th>\n",
       "      <th>Infiltration</th>\n",
       "      <th>group_index</th>\n",
       "    </tr>\n",
       "  </thead>\n",
       "  <tbody>\n",
       "    <tr>\n",
       "      <th>0</th>\n",
       "      <td>2017-05-01 11:00:00</td>\n",
       "      <td>66.9200</td>\n",
       "      <td>121.249903</td>\n",
       "      <td>117.500408</td>\n",
       "      <td>0.030921</td>\n",
       "      <td>0.069917</td>\n",
       "      <td>0.269098</td>\n",
       "      <td>10.883407</td>\n",
       "      <td>0.05053</td>\n",
       "      <td>1</td>\n",
       "    </tr>\n",
       "    <tr>\n",
       "      <th>1</th>\n",
       "      <td>2017-05-01 12:00:00</td>\n",
       "      <td>68.8325</td>\n",
       "      <td>126.738710</td>\n",
       "      <td>119.701874</td>\n",
       "      <td>0.055477</td>\n",
       "      <td>0.131216</td>\n",
       "      <td>0.269098</td>\n",
       "      <td>10.883407</td>\n",
       "      <td>0.05053</td>\n",
       "      <td>1</td>\n",
       "    </tr>\n",
       "    <tr>\n",
       "      <th>2</th>\n",
       "      <td>2017-05-01 13:00:00</td>\n",
       "      <td>71.2175</td>\n",
       "      <td>125.968438</td>\n",
       "      <td>117.835987</td>\n",
       "      <td>0.064523</td>\n",
       "      <td>0.151646</td>\n",
       "      <td>0.269098</td>\n",
       "      <td>10.883407</td>\n",
       "      <td>0.05053</td>\n",
       "      <td>1</td>\n",
       "    </tr>\n",
       "    <tr>\n",
       "      <th>3</th>\n",
       "      <td>2017-05-01 14:00:00</td>\n",
       "      <td>71.9600</td>\n",
       "      <td>128.377888</td>\n",
       "      <td>118.388939</td>\n",
       "      <td>0.077801</td>\n",
       "      <td>0.186264</td>\n",
       "      <td>0.269098</td>\n",
       "      <td>10.883407</td>\n",
       "      <td>0.05053</td>\n",
       "      <td>1</td>\n",
       "    </tr>\n",
       "    <tr>\n",
       "      <th>4</th>\n",
       "      <td>2017-05-01 15:00:00</td>\n",
       "      <td>71.9600</td>\n",
       "      <td>132.888217</td>\n",
       "      <td>121.509968</td>\n",
       "      <td>0.085623</td>\n",
       "      <td>0.212170</td>\n",
       "      <td>0.269098</td>\n",
       "      <td>10.883407</td>\n",
       "      <td>0.05053</td>\n",
       "      <td>1</td>\n",
       "    </tr>\n",
       "  </tbody>\n",
       "</table>\n",
       "</div>"
      ],
      "text/plain": [
       "            Unnamed: 0      oat        bldg   2004_bldg  2004_shed_pct  \\\n",
       "0  2017-05-01 11:00:00  66.9200  121.249903  117.500408       0.030921   \n",
       "1  2017-05-01 12:00:00  68.8325  126.738710  119.701874       0.055477   \n",
       "2  2017-05-01 13:00:00  71.2175  125.968438  117.835987       0.064523   \n",
       "3  2017-05-01 14:00:00  71.9600  128.377888  118.388939       0.077801   \n",
       "4  2017-05-01 15:00:00  71.9600  132.888217  121.509968       0.085623   \n",
       "\n",
       "   2004_shed_W_ft2       WWR    R-value  Infiltration  group_index  \n",
       "0         0.069917  0.269098  10.883407       0.05053            1  \n",
       "1         0.131216  0.269098  10.883407       0.05053            1  \n",
       "2         0.151646  0.269098  10.883407       0.05053            1  \n",
       "3         0.186264  0.269098  10.883407       0.05053            1  \n",
       "4         0.212170  0.269098  10.883407       0.05053            1  "
      ]
     },
     "execution_count": 133,
     "metadata": {},
     "output_type": "execute_result"
    }
   ],
   "source": [
    "data_morris.head()"
   ]
  },
  {
   "cell_type": "code",
   "execution_count": 134,
   "metadata": {},
   "outputs": [],
   "source": [
    "out_morris = data_morris.groupby('group_index').mean()['2004_shed_W_ft2'].values"
   ]
  },
  {
   "cell_type": "code",
   "execution_count": 135,
   "metadata": {
    "scrolled": true
   },
   "outputs": [
    {
     "data": {
      "text/plain": [
       "array([0.36132387, 0.36758607, 0.36717399, 0.36665475, 0.36125896,\n",
       "       0.35969448, 0.36699451, 0.36678233, 0.36735401, 0.36605016,\n",
       "       0.36596954, 0.37260588, 0.3728754 , 0.36617874, 0.36653387,\n",
       "       0.36560558, 0.36105595, 0.36692263, 0.36850284, 0.36861327,\n",
       "       0.36870965, 0.36889468, 0.36208644, 0.36089896, 0.35948862,\n",
       "       0.36132387, 0.36121363, 0.36717399, 0.35993266, 0.35969448,\n",
       "       0.36125896, 0.36754699, 0.36747819, 0.36742066, 0.36616185,\n",
       "       0.37284831, 0.36870965, 0.3670141 , 0.36676563, 0.36089896])"
      ]
     },
     "execution_count": 135,
     "metadata": {},
     "output_type": "execute_result"
    }
   ],
   "source": [
    "out_morris"
   ]
  },
  {
   "cell_type": "code",
   "execution_count": 136,
   "metadata": {},
   "outputs": [],
   "source": [
    "sa = morris_analyze.analyze(\n",
    "    problem, X=design_morris, Y=out_morris, num_levels=levels\n",
    ")"
   ]
  },
  {
   "cell_type": "code",
   "execution_count": 137,
   "metadata": {},
   "outputs": [
    {
     "data": {
      "text/plain": [
       "{'names': ['WWR', 'R-value', 'Infiltration'],\n",
       " 'mu': array([ 0.01029947, -0.00215002,  0.00015577]),\n",
       " 'mu_star': array([0.01029947, 0.00215002, 0.00032158]),\n",
       " 'sigma': array([0.00075094, 0.00063203, 0.00035096]),\n",
       " 'mu_star_conf': [0.00044743424456883055,\n",
       "  0.000372550182592624,\n",
       "  0.00011014064160394386]}"
      ]
     },
     "execution_count": 137,
     "metadata": {},
     "output_type": "execute_result"
    }
   ],
   "source": [
    "sa"
   ]
  },
  {
   "cell_type": "code",
   "execution_count": 139,
   "metadata": {},
   "outputs": [],
   "source": [
    "plot_morris_cov(sa, 'test', pathlib.Path.cwd())\n",
    "plot_morris_bar(sa, 'test', pathlib.Path.cwd())"
   ]
  },
  {
   "cell_type": "code",
   "execution_count": 140,
   "metadata": {},
   "outputs": [],
   "source": [
    "plot_morris_bar_sign(sa, 'test', pathlib.Path.cwd())"
   ]
  }
 ],
 "metadata": {
  "kernelspec": {
   "display_name": "Python 3",
   "language": "python",
   "name": "python3"
  },
  "language_info": {
   "codemirror_mode": {
    "name": "ipython",
    "version": 3
   },
   "file_extension": ".py",
   "mimetype": "text/x-python",
   "name": "python",
   "nbconvert_exporter": "python",
   "pygments_lexer": "ipython3",
   "version": "3.7.1"
  }
 },
 "nbformat": 4,
 "nbformat_minor": 2
}
